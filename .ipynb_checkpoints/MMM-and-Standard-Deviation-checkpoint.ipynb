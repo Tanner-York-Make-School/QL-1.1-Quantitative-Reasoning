{
 "cells": [
  {
   "cell_type": "markdown",
   "metadata": {},
   "source": [
    "# Mean, Median, Mode, and Standard Deviation"
   ]
  },
  {
   "cell_type": "markdown",
   "metadata": {},
   "source": [
    "## Activity:  Write a funtion to compute the median from an arbitrary dataset"
   ]
  },
  {
   "cell_type": "code",
   "execution_count": 86,
   "metadata": {
    "scrolled": true
   },
   "outputs": [],
   "source": [
    "import numpy as np\n",
    "import math\n",
    "\n",
    "\n",
    "def compute_median(dataset):\n",
    "    '''Determines the median value across the dataset.'''\n",
    "    count = len(dataset)\n",
    "    sorted(dataset)\n",
    "    \n",
    "    if count < 1:\n",
    "        return None\n",
    "    elif count % 2 == 0:\n",
    "        median1 = dataset[count//2]\n",
    "        median2 = dataset[count//2]-1\n",
    "        return median1+median2 / 2\n",
    "    else:\n",
    "        return dataset[math.ceil(count/2)-1]\n",
    "       "
   ]
  },
  {
   "cell_type": "code",
   "execution_count": 87,
   "metadata": {},
   "outputs": [
    {
     "data": {
      "text/plain": [
       "4.0"
      ]
     },
     "execution_count": 87,
     "metadata": {},
     "output_type": "execute_result"
    }
   ],
   "source": [
    "compute_median([1,1,1,2,3,4,5,5])"
   ]
  },
  {
   "cell_type": "markdown",
   "metadata": {},
   "source": [
    "## Activity:  Write a funtion to compute the mode from an arbitrary dataset"
   ]
  },
  {
   "cell_type": "code",
   "execution_count": 63,
   "metadata": {},
   "outputs": [],
   "source": [
    "import numpy as np\n",
    "\n",
    "def compute_mode(dataset):\n",
    "    '''Determines the mode value accross the dataset'''\n",
    "    value_counts = {}\n",
    "    for val in dataset:\n",
    "        if val in value_counts:\n",
    "            value_counts[val] += 1\n",
    "        else:\n",
    "            value_counts[val] = 1\n",
    "    modes = []\n",
    "    for key in value_counts:\n",
    "        if len(modes) == 0:\n",
    "            modes.append(key)\n",
    "        elif value_counts[key] > value_counts[modes[0]]:\n",
    "            modes = [key]\n",
    "        elif value_counts[key] == value_counts[modes[0]]:\n",
    "            modes.append(key)\n",
    "    return modes"
   ]
  },
  {
   "cell_type": "code",
   "execution_count": 64,
   "metadata": {},
   "outputs": [
    {
     "data": {
      "text/plain": [
       "[1, 5]"
      ]
     },
     "execution_count": 64,
     "metadata": {},
     "output_type": "execute_result"
    }
   ],
   "source": [
    "compute_mode([1,1,1,2,3,4,5,5,5])"
   ]
  },
  {
   "cell_type": "markdown",
   "metadata": {},
   "source": [
    "## Activity:  Write a funtion to compute the range from an arbitrary dataset"
   ]
  },
  {
   "cell_type": "code",
   "execution_count": null,
   "metadata": {},
   "outputs": [],
   "source": [
    "def compute_range(dataset):\n",
    "    '''Determines the range of the dataset'''\n",
    "    return max(dataset) - min(dataset)"
   ]
  }
 ],
 "metadata": {
  "kernelspec": {
   "display_name": "Python 3",
   "language": "python",
   "name": "python3"
  },
  "language_info": {
   "codemirror_mode": {
    "name": "ipython",
    "version": 3
   },
   "file_extension": ".py",
   "mimetype": "text/x-python",
   "name": "python",
   "nbconvert_exporter": "python",
   "pygments_lexer": "ipython3",
   "version": "3.7.4"
  }
 },
 "nbformat": 4,
 "nbformat_minor": 2
}
