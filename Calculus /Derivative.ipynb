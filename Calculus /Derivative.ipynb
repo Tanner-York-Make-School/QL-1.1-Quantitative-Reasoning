{
 "cells": [
  {
   "cell_type": "markdown",
   "metadata": {},
   "source": [
    "# Derivative"
   ]
  },
  {
   "cell_type": "markdown",
   "metadata": {},
   "source": [
    "### The derivative of any function is $f(x+△x) - f(x)/△x$, where $△x$ is any, very small number (epsilon in the function below's case)"
   ]
  },
  {
   "cell_type": "markdown",
   "metadata": {},
   "source": [
    "### Activity: Write a Python function that calculates the gradient of $x^2$ at $x = 3$ and $x = -2$ using the above definition"
   ]
  },
  {
   "cell_type": "code",
   "execution_count": 7,
   "metadata": {},
   "outputs": [
    {
     "name": "stdout",
     "output_type": "stream",
     "text": [
      "6.000001000927568\n",
      "-3.999998999582033\n"
     ]
    }
   ],
   "source": [
    "import numpy as np\n",
    "\n",
    "def f(x):\n",
    "    return x**2\n",
    "\n",
    "def derivative(f, x):\n",
    "    \"\"\"Calculates the derivative of a given point in a function\n",
    "        Args:\n",
    "            f (function): a mathimatical function\n",
    "            x (integer): any integer between (-infinity, infinity)\n",
    "        Returns:\n",
    "            The derivative (slope) of x in the function f\n",
    "    \"\"\"\n",
    "    eps = 1e-6\n",
    "    return (f(x + eps) - f(x))/eps\n",
    "\n",
    "print(derivative(f, 3))\n",
    "print(derivative(f, -2))"
   ]
  },
  {
   "cell_type": "markdown",
   "metadata": {},
   "source": [
    "## The derivative of sumation is the sumation of the derivatives"
   ]
  },
  {
   "cell_type": "markdown",
   "metadata": {},
   "source": [
    "### We can calcualte the derivative analytically in Python using the Symbolic library"
   ]
  },
  {
   "cell_type": "code",
   "execution_count": 3,
   "metadata": {},
   "outputs": [
    {
     "name": "stdout",
     "output_type": "stream",
     "text": [
      "2*x\n",
      "6.00000000000000\n",
      "-2.00000000000000\n"
     ]
    }
   ],
   "source": [
    "from sympy import symbols, diff\n",
    "\n",
    "x = symbols('x', real=True)\n",
    "f = (x**2)\n",
    "fx = diff(f, x, evaluate=True)\n",
    "print(fx)\n",
    "\n",
    "\n",
    "print(fx.evalf(subs={x: 3}))\n",
    "print(fx.evalf(subs={x: -1}))"
   ]
  },
  {
   "cell_type": "markdown",
   "metadata": {},
   "source": [
    "# What is the derivative of the minimun point of a function?"
   ]
  },
  {
   "cell_type": "markdown",
   "metadata": {},
   "source": [
    "The derivative is 0. In other words, it is the point in which the dirivative/gradiant is neither increasing nor decreasing (has a slope of 0)."
   ]
  }
 ],
 "metadata": {
  "kernelspec": {
   "display_name": "Python 3",
   "language": "python",
   "name": "python3"
  },
  "language_info": {
   "codemirror_mode": {
    "name": "ipython",
    "version": 3
   },
   "file_extension": ".py",
   "mimetype": "text/x-python",
   "name": "python",
   "nbconvert_exporter": "python",
   "pygments_lexer": "ipython3",
   "version": "3.7.4"
  }
 },
 "nbformat": 4,
 "nbformat_minor": 2
}
