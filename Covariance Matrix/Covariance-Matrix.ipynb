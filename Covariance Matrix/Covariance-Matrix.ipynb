{
 "cells": [
  {
   "cell_type": "code",
   "execution_count": 1,
   "metadata": {},
   "outputs": [],
   "source": [
    "import pandas as pd\n",
    "import numpy as np\n",
    "\n",
    "# Running Distance in Mile\n",
    "X = np.array([3.3,4.4,5.5,6.71,6.93,4.168,9.779,6.182,7.59,2.167,\n",
    "                         7.042,10.791,5.313,7.997,5.654,9.27,3.1])\n",
    "\n",
    "# Water Drinks in Litre\n",
    "Y = np.array([1.7,2.76,2.09,3.19,1.694,1.573,3.366,2.596,2.53,1.221,\n",
    "                         2.827,3.465,1.65,2.904,2.42,2.94,1.3])\n",
    "\n",
    "Z = np.array([3.3,2.76,2.09,3.19,1.694,1.573,3.366,2.596,2.53,1.221,\n",
    "                         2.827,3.465,1.65,10.791,6.182,2.94,1.3])"
   ]
  },
  {
   "cell_type": "code",
   "execution_count": 2,
   "metadata": {},
   "outputs": [],
   "source": [
    "def covariance(X, Y):\n",
    "    return np.sum((X - np.mean(X)) * (Y - np.mean(Y))) / (len(X)-1)"
   ]
  },
  {
   "cell_type": "code",
   "execution_count": 42,
   "metadata": {},
   "outputs": [],
   "source": [
    "def covariance_matrix(*args):\n",
    "    \"\"\"\n",
    "    A function that creates a covariance matrix\n",
    "        Args: \n",
    "            Two unknown list/data sets of the same shape\n",
    "        Returns:\n",
    "            A covariance matrix of the data given\n",
    "    \"\"\"\n",
    "    # [[0.0]*len(args)]*len(args)\n",
    "    covariance_matrix = np.zeros(shape=(len(args),len(args)))\n",
    "    for y, row in enumerate(covariance_matrix):\n",
    "        for x, comlumn in enumerate(row):\n",
    "            covariance_matrix[x][y] = covariance(args[x], args[y])\n",
    "    return covariance_matrix"
   ]
  },
  {
   "cell_type": "code",
   "execution_count": 48,
   "metadata": {},
   "outputs": [],
   "source": [
    "print(np.cov([X,Y,Z]))\n",
    "print('----------------------------')\n",
    "print(covariance_matrix(X,Y,Z))"
   ]
  }
 ],
 "metadata": {
  "kernelspec": {
   "display_name": "Python 3",
   "language": "python",
   "name": "python3"
  },
  "language_info": {
   "codemirror_mode": {
    "name": "ipython",
    "version": 3
   },
   "file_extension": ".py",
   "mimetype": "text/x-python",
   "name": "python",
   "nbconvert_exporter": "python",
   "pygments_lexer": "ipython3",
   "version": "3.7.4"
  }
 },
 "nbformat": 4,
 "nbformat_minor": 2
}