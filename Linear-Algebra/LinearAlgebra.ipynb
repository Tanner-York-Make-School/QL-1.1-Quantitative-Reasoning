{
 "cells": [
  {
   "cell_type": "markdown",
   "metadata": {},
   "source": [
    "# Matrix Manipulation\n",
    "- numpy arrays act like matries"
   ]
  },
  {
   "cell_type": "code",
   "execution_count": 1,
   "metadata": {},
   "outputs": [],
   "source": [
    "import numpy as np\n",
    "\n",
    "X = np.array(\n",
    "[[73.847017017515, 241.893563180437],\n",
    " [68.7819040458903, 162.3104725213],\n",
    " [74.1101053917849, 212.7408555565],\n",
    " [71.7309784033377, 220.042470303077],\n",
    " [69.8817958611153, 206.349800623871],\n",
    " [67.2530156878065, 152.212155757083],\n",
    " [68.7850812516616, 183.927888604031],\n",
    " [68.3485155115879, 167.971110489509],\n",
    " [67.018949662883, 175.92944039571],\n",
    " [63.4564939783664, 156.399676387112]]\n",
    ")"
   ]
  },
  {
   "cell_type": "code",
   "execution_count": 2,
   "metadata": {},
   "outputs": [
    {
     "data": {
      "text/plain": [
       "(10, 2)"
      ]
     },
     "execution_count": 2,
     "metadata": {},
     "output_type": "execute_result"
    }
   ],
   "source": [
    "X.shape"
   ]
  },
  {
   "cell_type": "markdown",
   "metadata": {},
   "source": [
    "## Finding Mean with numpy"
   ]
  },
  {
   "cell_type": "code",
   "execution_count": 3,
   "metadata": {},
   "outputs": [
    {
     "data": {
      "text/plain": [
       "69.32138568119487"
      ]
     },
     "execution_count": 3,
     "metadata": {},
     "output_type": "execute_result"
    }
   ],
   "source": [
    "# Mean of the first column\n",
    "np.mean(X[:,0])"
   ]
  },
  {
   "cell_type": "code",
   "execution_count": 4,
   "metadata": {},
   "outputs": [
    {
     "data": {
      "text/plain": [
       "208.667432437037"
      ]
     },
     "execution_count": 4,
     "metadata": {},
     "output_type": "execute_result"
    }
   ],
   "source": [
    "# Mean of the first five rowa of the second column\n",
    "np.mean(X[:5,1])"
   ]
  },
  {
   "cell_type": "code",
   "execution_count": 5,
   "metadata": {},
   "outputs": [
    {
     "data": {
      "text/plain": [
       "175.92944039571"
      ]
     },
     "execution_count": 5,
     "metadata": {},
     "output_type": "execute_result"
    }
   ],
   "source": [
    "# Value at ninth row, second column\n",
    "X[8,1]"
   ]
  },
  {
   "cell_type": "code",
   "execution_count": 6,
   "metadata": {},
   "outputs": [
    {
     "data": {
      "text/plain": [
       "array([[  4.52563134,  53.9158198 ],\n",
       "       [ -0.53948164, -25.66727086],\n",
       "       [  4.78871971,  24.76311217],\n",
       "       [  2.40959272,  32.06472692],\n",
       "       [  0.56041018,  18.37205724],\n",
       "       [ -2.06836999, -35.76558762],\n",
       "       [ -0.53630443,  -4.04985478],\n",
       "       [ -0.97287017, -20.00663289],\n",
       "       [ -2.30243602, -12.04830299],\n",
       "       [ -5.8648917 , -31.57806699]])"
      ]
     },
     "execution_count": 6,
     "metadata": {},
     "output_type": "execute_result"
    }
   ],
   "source": [
    "weight = X[:,0] - np.mean(X[:,0])\n",
    "height = X[:,1] - np.mean(X[:,1])\n",
    "\n",
    "np.concatenate((weight.reshape((10,1)), height.reshape((10,1))), axis=1)"
   ]
  },
  {
   "cell_type": "markdown",
   "metadata": {},
   "source": [
    "## Adding Matrices with numpy"
   ]
  },
  {
   "cell_type": "code",
   "execution_count": 14,
   "metadata": {},
   "outputs": [
    {
     "name": "stdout",
     "output_type": "stream",
     "text": [
      "[[1 2]\n",
      " [3 4]]\n",
      "Total 10\n",
      "Sum of Columns [4 6]\n",
      "Sum of Rows [3 7]\n"
     ]
    }
   ],
   "source": [
    "A = np.array([[1,2],[3,4]])\n",
    "print(A)\n",
    "\n",
    "# Add total\n",
    "print('Total', np.sum(A))\n",
    "\n",
    "# Add by columns\n",
    "print('Sum of Columns', np.sum(A, axis=0))\n",
    "\n",
    "# add by rows\n",
    "print('Sum of Rows', np.sum(A, axis=1))"
   ]
  },
  {
   "cell_type": "markdown",
   "metadata": {},
   "source": [
    "## Matrix, Vector Multiplication\n",
    "\n",
    "When multiplying an m*n matrix with a vector, we can only multiply it by a vector a size of n*1."
   ]
  },
  {
   "cell_type": "code",
   "execution_count": 7,
   "metadata": {},
   "outputs": [
    {
     "name": "stdout",
     "output_type": "stream",
     "text": [
      "-Dot product of A and v-\n",
      "[[19]\n",
      " [ 7]\n",
      " [31]]\n"
     ]
    }
   ],
   "source": [
    "import numpy as np\n",
    "\n",
    "A = np.array([[1,2],[0,1],[2,3]])\n",
    "v = np.array([[5],[7]])\n",
    "print('-Dot product of A and v-')\n",
    "print(np.dot(A,v))"
   ]
  },
  {
   "cell_type": "code",
   "execution_count": 12,
   "metadata": {},
   "outputs": [
    {
     "name": "stdout",
     "output_type": "stream",
     "text": [
      "[[14 19]\n",
      " [ 6  7]\n",
      " [22 31]]\n"
     ]
    }
   ],
   "source": [
    "B = np.array([[2, 5],[6, 7]])\n",
    "print(np.dot(A,B))"
   ]
  },
  {
   "cell_type": "markdown",
   "metadata": {},
   "source": [
    "### Identity Matrix"
   ]
  },
  {
   "cell_type": "code",
   "execution_count": 17,
   "metadata": {},
   "outputs": [
    {
     "name": "stdout",
     "output_type": "stream",
     "text": [
      "[[1 2]\n",
      " [0 1]\n",
      " [2 3]]\n"
     ]
    }
   ],
   "source": [
    "B = np.array([[1,0],[0,1]])\n",
    "print(np.dot(A,B))"
   ]
  },
  {
   "cell_type": "markdown",
   "metadata": {},
   "source": [
    "## Can we express linear regression in matrix-vector format?"
   ]
  },
  {
   "cell_type": "code",
   "execution_count": 18,
   "metadata": {},
   "outputs": [],
   "source": [
    "import numpy as np\n",
    "import matplotlib.pyplot as plt\n",
    "\n",
    "# Running Distance in Mile\n",
    "x = np.array([3.3,4.4,5.5,6.71,6.93,4.168,9.779,6.182,7.59,2.167,\n",
    "                         7.042,10.791,5.313,7.997,5.654,9.27,3.1])\n",
    "\n",
    "# Water Drinks in Litre\n",
    "y = np.array([1.7,2.76,2.09,3.19,1.694,1.573,3.366,2.596,2.53,1.221,\n",
    "                         2.827,3.465,1.65,2.904,2.42,2.94,1.3])"
   ]
  },
  {
   "cell_type": "code",
   "execution_count": 25,
   "metadata": {
    "scrolled": true
   },
   "outputs": [
    {
     "name": "stdout",
     "output_type": "stream",
     "text": [
      "[1.629196532, 1.905994966, 2.1827934, 2.4872716774, 2.5426313642, 1.84761565992, 3.25953930826, 2.3544084290800003, 2.7087104245999996, 1.34409414498, 2.57081447748, 3.51419386754, 2.13573766622, 2.81112584518, 2.2215451807599997, 3.1314571237999997, 1.578869544]\n"
     ]
    }
   ],
   "source": [
    "w1 = 0.25163494 \n",
    "w0 = 0.79880123 \n",
    "y_pred = [w1*i + w0 for i in x]\n",
    "print(y_pred)"
   ]
  },
  {
   "cell_type": "markdown",
   "metadata": {},
   "source": [
    "### Yes! We can represent linear regression with marties using numpy in two ways"
   ]
  },
  {
   "cell_type": "code",
   "execution_count": 28,
   "metadata": {
    "scrolled": true
   },
   "outputs": [
    {
     "name": "stdout",
     "output_type": "stream",
     "text": [
      "[[ 3.3    1.   ]\n",
      " [ 4.4    1.   ]\n",
      " [ 5.5    1.   ]\n",
      " [ 6.71   1.   ]\n",
      " [ 6.93   1.   ]\n",
      " [ 4.168  1.   ]\n",
      " [ 9.779  1.   ]\n",
      " [ 6.182  1.   ]\n",
      " [ 7.59   1.   ]\n",
      " [ 2.167  1.   ]\n",
      " [ 7.042  1.   ]\n",
      " [10.791  1.   ]\n",
      " [ 5.313  1.   ]\n",
      " [ 7.997  1.   ]\n",
      " [ 5.654  1.   ]\n",
      " [ 9.27   1.   ]\n",
      " [ 3.1    1.   ]]\n",
      "[1.62919653 1.90599497 2.1827934  2.48727168 2.54263136 1.84761566\n",
      " 3.25953931 2.35440843 2.70871042 1.34409414 2.57081448 3.51419387\n",
      " 2.13573767 2.81112585 2.22154518 3.13145712 1.57886954]\n"
     ]
    }
   ],
   "source": [
    "# First\n",
    "X = np.concatenate((np.transpose([x]), np.ones((len(x), 1))), axis=1)\n",
    "w = np.array([w1, w0])\n",
    "print(X)\n",
    "print(np.dot(X,w))"
   ]
  },
  {
   "cell_type": "code",
   "execution_count": 22,
   "metadata": {},
   "outputs": [
    {
     "name": "stdout",
     "output_type": "stream",
     "text": [
      "[array([ 3.3  ,  4.4  ,  5.5  ,  6.71 ,  6.93 ,  4.168,  9.779,  6.182,\n",
      "        7.59 ,  2.167,  7.042, 10.791,  5.313,  7.997,  5.654,  9.27 ,\n",
      "        3.1  ])\n",
      " array([[1., 1., 1., 1., 1., 1., 1., 1., 1., 1., 1., 1., 1., 1., 1., 1.,\n",
      "        1.]])]\n"
     ]
    },
    {
     "data": {
      "text/plain": [
       "array([[1.62919653, 1.90599497, 2.1827934 , 2.48727168, 2.54263136,\n",
       "        1.84761566, 3.25953931, 2.35440843, 2.70871042, 1.34409414,\n",
       "        2.57081448, 3.51419387, 2.13573767, 2.81112585, 2.22154518,\n",
       "        3.13145712, 1.57886954]])"
      ]
     },
     "execution_count": 22,
     "metadata": {},
     "output_type": "execute_result"
    }
   ],
   "source": [
    "# Second\n",
    "X = np.array([x, np.ones((1, len(x)))])\n",
    "print(X)\n",
    "w = np.array([w1, w0])\n",
    "np.dot(w, X)"
   ]
  },
  {
   "cell_type": "markdown",
   "metadata": {},
   "source": [
    "## Matrix and Vector Transposition"
   ]
  },
  {
   "cell_type": "markdown",
   "metadata": {},
   "source": [
    "- In linear algebra, the transpose of a matrix is an operator which switches the row and column indices of the matrix by producing another matrix denoted as Aᵀ"
   ]
  },
  {
   "cell_type": "markdown",
   "metadata": {},
   "source": [
    "### Transposition in numpy"
   ]
  },
  {
   "cell_type": "code",
   "execution_count": 35,
   "metadata": {
    "scrolled": true
   },
   "outputs": [
    {
     "name": "stdout",
     "output_type": "stream",
     "text": [
      "[[1 2 3]\n",
      " [4 5 6]]\n",
      "-------\n",
      "[[1 4]\n",
      " [2 5]\n",
      " [3 6]]\n",
      "-------\n",
      "[[1 4]\n",
      " [2 5]\n",
      " [3 6]]\n"
     ]
    }
   ],
   "source": [
    "A = np.array([[1, 2, 3], [4, 5, 6]])\n",
    "print(A)\n",
    "print('-------')\n",
    "print(A.T)\n",
    "print('-------')\n",
    "print(np.transpose(A))"
   ]
  },
  {
   "cell_type": "markdown",
   "metadata": {},
   "source": [
    "## Vector's Norm (distance from origin)"
   ]
  },
  {
   "cell_type": "markdown",
   "metadata": {},
   "source": [
    "- We have different norm, here we mean L2-norm, which measures the distance of a vector from origin"
   ]
  },
  {
   "cell_type": "code",
   "execution_count": 48,
   "metadata": {},
   "outputs": [
    {
     "name": "stdout",
     "output_type": "stream",
     "text": [
      "5.0\n",
      "5.0\n"
     ]
    }
   ],
   "source": [
    "from numpy import linalg\n",
    "\n",
    "# What is the norm (distance from origin) of this vector?\n",
    "v = np.array([3,4])\n",
    "u = np.array([6,1])\n",
    "\n",
    "print(linalg.norm(v))\n",
    "# OR\n",
    "print(np.sqrt(np.dot(v,v.T)))"
   ]
  },
  {
   "cell_type": "markdown",
   "metadata": {},
   "source": [
    "## How could we find the distance between two vectors?"
   ]
  },
  {
   "cell_type": "code",
   "execution_count": 53,
   "metadata": {},
   "outputs": [
    {
     "name": "stdout",
     "output_type": "stream",
     "text": [
      "4.242640687119285\n",
      "7.87400787401181\n"
     ]
    }
   ],
   "source": [
    "# By calculating the norm of v - u or the connection of \n",
    "print(linalg.norm(u-v))\n",
    "# OR\n",
    "print(np.sqrt((linalg.norm(u)**2)+(linalg.norm(v))**2))"
   ]
  },
  {
   "cell_type": "code",
   "execution_count": null,
   "metadata": {},
   "outputs": [],
   "source": []
  }
 ],
 "metadata": {
  "kernelspec": {
   "display_name": "Python 3",
   "language": "python",
   "name": "python3"
  },
  "language_info": {
   "codemirror_mode": {
    "name": "ipython",
    "version": 3
   },
   "file_extension": ".py",
   "mimetype": "text/x-python",
   "name": "python",
   "nbconvert_exporter": "python",
   "pygments_lexer": "ipython3",
   "version": "3.7.4"
  }
 },
 "nbformat": 4,
 "nbformat_minor": 2
}
