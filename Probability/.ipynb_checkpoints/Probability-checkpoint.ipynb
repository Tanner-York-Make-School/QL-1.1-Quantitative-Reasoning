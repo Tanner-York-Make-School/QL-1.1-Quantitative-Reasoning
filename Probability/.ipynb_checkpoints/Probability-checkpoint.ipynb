{
 "cells": [
  {
   "cell_type": "code",
   "execution_count": 6,
   "metadata": {},
   "outputs": [],
   "source": [
    "import pandas as pd\n",
    "import numpy as np\n",
    "from random import choices\n",
    "\n",
    "def verify_head(prob_head, num_flips):\n",
    "    prob_HHT = prob_head**2-prob_head**3\n",
    "    event = ['H', 'T']\n",
    "    weights = [prob_head, 1-prob_head]\n",
    "    flips_HHT = []\n",
    "    for _ in range(0, num_flips):\n",
    "        flips = ''.join([choices(event, weights)[0] for _ in range(0, 3)])\n",
    "        if flips == 'HHT':\n",
    "            flips_HHT.append(flips)\n",
    "    print(prob_HHT, len(flips_HHT)/num_flips)\n",
    "    "
   ]
  },
  {
   "cell_type": "code",
   "execution_count": 7,
   "metadata": {},
   "outputs": [
    {
     "name": "stdout",
     "output_type": "stream",
     "text": [
      "0.375 0.3715\n"
     ]
    }
   ],
   "source": [
    "verify_head(.5, 10000)"
   ]
  },
  {
   "cell_type": "code",
   "execution_count": null,
   "metadata": {},
   "outputs": [],
   "source": []
  }
 ],
 "metadata": {
  "kernelspec": {
   "display_name": "Python 3",
   "language": "python",
   "name": "python3"
  },
  "language_info": {
   "codemirror_mode": {
    "name": "ipython",
    "version": 3
   },
   "file_extension": ".py",
   "mimetype": "text/x-python",
   "name": "python",
   "nbconvert_exporter": "python",
   "pygments_lexer": "ipython3",
   "version": "3.7.4"
  }
 },
 "nbformat": 4,
 "nbformat_minor": 2
}
