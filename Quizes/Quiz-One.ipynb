{
 "cells": [
  {
   "cell_type": "markdown",
   "metadata": {},
   "source": [
    "A person works in a company. His/Her base salary is $115k. The salary increase rate is 3% yearly in th company.\n",
    "Write a funtion that returns his/her salary amount during the next 10 years."
   ]
  },
  {
   "cell_type": "code",
   "execution_count": 3,
   "metadata": {},
   "outputs": [],
   "source": [
    "def salary(base_salary, rate, years):\n",
    "    \"\"\" Calculates the salary from the base pay, rate of increase, and years having the increase\"\"\"\n",
    "    return base_salary * (1+rate)**years"
   ]
  },
  {
   "cell_type": "code",
   "execution_count": 7,
   "metadata": {},
   "outputs": [
    {
     "data": {
      "text/plain": [
       "159135.0"
      ]
     },
     "execution_count": 7,
     "metadata": {},
     "output_type": "execute_result"
    }
   ],
   "source": [
    "salary(150000, .03, 2)"
   ]
  }
 ],
 "metadata": {
  "kernelspec": {
   "display_name": "Python 3",
   "language": "python",
   "name": "python3"
  },
  "language_info": {
   "codemirror_mode": {
    "name": "ipython",
    "version": 3
   },
   "file_extension": ".py",
   "mimetype": "text/x-python",
   "name": "python",
   "nbconvert_exporter": "python",
   "pygments_lexer": "ipython3",
   "version": "3.7.4"
  }
 },
 "nbformat": 4,
 "nbformat_minor": 2
}
