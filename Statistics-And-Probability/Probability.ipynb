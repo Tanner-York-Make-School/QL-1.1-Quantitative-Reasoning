{
 "cells": [
  {
   "cell_type": "markdown",
   "metadata": {},
   "source": [
    "# Probability"
   ]
  },
  {
   "cell_type": "markdown",
   "metadata": {},
   "source": [
    "### What is the equasion for cacluating the probability of independent porbabilities? (coin flip)"
   ]
  },
  {
   "cell_type": "markdown",
   "metadata": {},
   "source": [
    "P(A and B and C) = P(A) * P(B) * P(C)"
   ]
  },
  {
   "cell_type": "markdown",
   "metadata": {},
   "source": [
    "### What is the equasion for calculating the probability of a conditional probability? (bag of marbles)"
   ]
  },
  {
   "cell_type": "markdown",
   "metadata": {},
   "source": [
    "The equasion bellow is Bayes Rule, and it works for both indepentent and dependient probabilities"
   ]
  },
  {
   "cell_type": "markdown",
   "metadata": {},
   "source": [
    "P(B|A) = P(A and B)/P(A) "
   ]
  },
  {
   "cell_type": "markdown",
   "metadata": {},
   "source": [
    "\"|\" stands for given or using the above as example, what is the proablility of B given the probability of A"
   ]
  },
  {
   "cell_type": "markdown",
   "metadata": {},
   "source": [
    "### What is the LOTP equasion?"
   ]
  },
  {
   "cell_type": "markdown",
   "metadata": {},
   "source": [
    "P(n=x) = P(n=x|n-1=y)*P(n-1=y) + P(n=x|n-1=x)*P(n-1=x)"
   ]
  },
  {
   "cell_type": "markdown",
   "metadata": {},
   "source": [
    "## Activity: Given a dataset on tennis, what is the probabillity that the wind is weak and the tennis player does not play"
   ]
  },
  {
   "cell_type": "code",
   "execution_count": 2,
   "metadata": {},
   "outputs": [],
   "source": [
    "# In order to solve this problem you would need to add all the times that the wind was weak and the players didn't\n",
    "# play, then divide that from the total times they played. The below function performs this previously stated solution.\n",
    "\n",
    "def probability(X, Y):\n",
    "    total_weak = sum(1 for i, j in Y if X[i] is 'Weak')\n",
    "    return total_weak/len(X)"
   ]
  }
 ],
 "metadata": {
  "kernelspec": {
   "display_name": "Python 3",
   "language": "python",
   "name": "python3"
  },
  "language_info": {
   "codemirror_mode": {
    "name": "ipython",
    "version": 3
   },
   "file_extension": ".py",
   "mimetype": "text/x-python",
   "name": "python",
   "nbconvert_exporter": "python",
   "pygments_lexer": "ipython3",
   "version": "3.7.4"
  }
 },
 "nbformat": 4,
 "nbformat_minor": 2
}
