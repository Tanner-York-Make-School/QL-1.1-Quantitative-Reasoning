{
 "cells": [
  {
   "cell_type": "markdown",
   "metadata": {},
   "source": [
    "# Final Project: Linear Regression\n",
    "- We want to present the relationship between (two) variables linearly\n",
    "\n",
    "- For example, recall the running distance and drinking water\n",
    "\n",
    "- We are interested to obtain the best line describing by y_pred[i] = w_1 x[i] +w_0 that maps running distance to drinking water\n",
    "\n",
    "- Below, list x represents running distance in miles and list y represents the drinking water in litres"
   ]
  },
  {
   "cell_type": "code",
   "execution_count": 1,
   "metadata": {},
   "outputs": [
    {
     "data": {
      "text/plain": [
       "Text(0, 0.5, 'Water Drinks (Litre)')"
      ]
     },
     "execution_count": 1,
     "metadata": {},
     "output_type": "execute_result"
    }
   ],
   "source": [
    "import numpy as np\n",
    "import matplotlib.pyplot as plt\n",
    "\n",
    "# Running Distance in Mile\n",
    "x = np.array([3.3,4.4,5.5,6.71,6.93,4.168,9.779,6.182,7.59,2.167,\n",
    "                         7.042,10.791,5.313,7.997,5.654,9.27,3.1])\n",
    "\n",
    "# Water Drinks in Litre\n",
    "y = np.array([1.7,2.76,2.09,3.19,1.694,1.573,3.366,2.596,2.53,1.221,\n",
    "                         2.827,3.465,1.65,2.904,2.42,2.94,1.3])\n",
    "\n",
    "plt.scatter(x, y)\n",
    "plt.xlabel('Running Distance (Mile)')\n",
    "plt.ylabel('Water Drinks (Litre)')"
   ]
  },
  {
   "cell_type": "markdown",
   "metadata": {},
   "source": [
    "## Question 1: Obtain the MSE for the following two lines:\n",
    "\n",
    "1- y_pred[i] = 0.7*x[i] + 0.3\n",
    "\n",
    "2- y_pred[i] = 0.25163494*x[i] + 0.79880123"
   ]
  },
  {
   "cell_type": "code",
   "execution_count": 2,
   "metadata": {},
   "outputs": [
    {
     "name": "stdout",
     "output_type": "stream",
     "text": [
      "6.518593101764703\n",
      "0.15385767404191164\n"
     ]
    }
   ],
   "source": [
    "def min_sq_error(Y, X, w1, w0):\n",
    "    y_pred = [(w1 * x) + w0 for x in X]\n",
    "    sum_squared_error = sum((y_p-y)**2 for y, y_p in zip(Y, y_pred))\n",
    "    N = len(Y)\n",
    "    mse = sum_squared_error/N\n",
    "    return mse\n",
    "\n",
    "print(min_sq_error(y, x, 0.7, 0.3))\n",
    "print(min_sq_error(y, x, 0.25163494, 0.79880123))"
   ]
  },
  {
   "cell_type": "markdown",
   "metadata": {},
   "source": [
    "## Question 2: Obtain the best line (Coding is not required)¶\n",
    "\n",
    "- In order the best line, we want to obtain which slope ($w_1$) and intercept ($w_0$) minimize the mean-square-error (MSE)\n",
    "\n",
    "- Mathematically:\n",
    "\n",
    "    - $MSE = \\frac{1}{N} \\sum_{i=0}^{N-1} (y_{pred}[i] - y[i])^2$\n",
    "\n",
    "    - $MSE = f(w_1, w_0)= \\frac{1}{N} \\sum_{i=0}^{N-1} (w_1x[i] + w_0 - y[i])^2$\n",
    "\n"
   ]
  },
  {
   "cell_type": "markdown",
   "metadata": {},
   "source": [
    "<img src=\"files/w0.jpeg\">"
   ]
  },
  {
   "cell_type": "markdown",
   "metadata": {},
   "source": [
    "<img src=\"files/w1.jpeg\">"
   ]
  },
  {
   "cell_type": "markdown",
   "metadata": {},
   "source": [
    "## Question 3: Write a code to return the slope and intercept with given list x and y\n",
    "\n",
    "- After taking partial derivative of mean-squared-error and setting to zero for both $w_1$ and $w_0$ ($\\frac{\\partial MSE}{\\partial w_1} = 0$ $\\frac{\\partial MSE}{\\partial w_0} = 0$)\n",
    "\n",
    "- $w_1$ = is obtained from list x and list y\n",
    "\n",
    "- $w_0 $ = is obtained from $w_1$, list x and list y\n",
    "Write a Python function that return $w_1$ and $w_0$ from your calculation on the paper"
   ]
  },
  {
   "cell_type": "code",
   "execution_count": 3,
   "metadata": {},
   "outputs": [
    {
     "name": "stdout",
     "output_type": "stream",
     "text": [
      "(0.25163494428355354, 0.7988012261753925)\n"
     ]
    }
   ],
   "source": [
    "def slope_intercept_LR(X, Y):\n",
    "    y_bar = np.mean(Y)\n",
    "    x_bar = np.mean(X)\n",
    "    w1 = sum((-y_bar*x)+(y*x) for x,y in zip(X,Y)) / sum((x**2)-(x_bar*x) for x,y in zip(X,Y))\n",
    "    w0 = y_bar-(w1*x_bar)\n",
    "    return w1, w0\n",
    "\n",
    "print(slope_intercept_LR(x, y))"
   ]
  },
  {
   "cell_type": "markdown",
   "metadata": {},
   "source": [
    "## Question 4: After obtain the best line, obtain the variance and mean of error\n",
    "\n",
    "- In Question 3, we have obtained the best line\n",
    "- So, we can error list which its element is: $E[i] = y_{pred}[i] - y[i]$\n",
    "- Write a function that calculate variance and mean of list $E$\n",
    "- Plot the distribution of the error for optimal line"
   ]
  },
  {
   "cell_type": "code",
   "execution_count": 4,
   "metadata": {},
   "outputs": [
    {
     "name": "stdout",
     "output_type": "stream",
     "text": [
      "0.1538576740419111\n"
     ]
    },
    {
     "data": {
      "image/png": "[encoded data removed]",
      "text/plain": [
       "<Figure size 432x288 with 1 Axes>"
      ]
     },
     "metadata": {
      "needs_background": "light"
     },
     "output_type": "display_data"
    }
   ],
   "source": [
    "def variance(X, Y, w0, w1):\n",
    "    y_pred = [w0*x + w1 for x in X]\n",
    "    E = [y_p - y for y_p,y in zip(y_pred, Y)]\n",
    "    print(np.var(E))\n",
    "    \n",
    "    plt.scatter(x, y)\n",
    "    plt.plot(X, y_pred, 'ro-')\n",
    "    \n",
    "variance(x,y,0.25163494, 0.79880123)"
   ]
  },
  {
   "cell_type": "markdown",
   "metadata": {},
   "source": [
    "## Question 5: (Optional but Bonus point) In almost all applications, we update the slope and intercept through iteration\n",
    "- Instead of putting the $\\frac{\\partial MSE}{\\partial w_1} = 0$ $\\frac{\\partial MSE}{\\partial w_0} = 0$\n",
    "    - Initialize the $w_1$ and $w_0$ with arbitrary value, then update them by follwing Gradient Updating Rule:\n",
    "    - $w_1 = w_1 - step*\\frac{\\partial MSE}{\\partial w_1}$\n",
    "    - $w_0 = w_0 - step*\\frac{\\partial MSE}{\\partial w_0}$"
   ]
  },
  {
   "cell_type": "code",
   "execution_count": 221,
   "metadata": {},
   "outputs": [
    {
     "name": "stdout",
     "output_type": "stream",
     "text": [
      "0.25163494428355426\n",
      "0.7988012261753875\n"
     ]
    }
   ],
   "source": [
    "import numpy as np\n",
    "\n",
    "w0 = np.random.randn()\n",
    "w1 = np.random.randn()\n",
    "step = 0.03\n",
    "epoch = 5000\n",
    "for _ in range(epoch):\n",
    "    w1 = w1 - step*(sum(i*((w1*i)+w0-j) for i,j in zip(x,y))/len(y))\n",
    "    w0 = w0 - step*sum(((w1*i)+w0-j) for i,j in zip(x,y))\n",
    "print(w1)\n",
    "print(w0)"
   ]
  },
  {
   "cell_type": "code",
   "execution_count": null,
   "metadata": {},
   "outputs": [],
   "source": []
  }
 ],
 "metadata": {
  "kernelspec": {
   "display_name": "Python 3",
   "language": "python",
   "name": "python3"
  },
  "language_info": {
   "codemirror_mode": {
    "name": "ipython",
    "version": 3
   },
   "file_extension": ".py",
   "mimetype": "text/x-python",
   "name": "python",
   "nbconvert_exporter": "python",
   "pygments_lexer": "ipython3",
   "version": "3.7.4"
  }
 },
 "nbformat": 4,
 "nbformat_minor": 2
}
